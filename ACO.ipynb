{
 "cells": [
  {
   "cell_type": "code",
   "execution_count": 11,
   "id": "9ed900d7-16d1-49ac-bbdc-a44d38569956",
   "metadata": {},
   "outputs": [
    {
     "name": "stdout",
     "output_type": "stream",
     "text": [
      "Best route: [1, 0, 2, 3]\n",
      "Shortest distance: 80\n"
     ]
    }
   ],
   "source": [
    "import numpy as np, random\n",
    "\n",
    "distance_matrix = np.array([[0,10,15,20],[10,0,35,25],[15,35,0,30],[20,25,30,0]])\n",
    "num_cities, num_ants, num_iterations = len(distance_matrix), 10, 50\n",
    "pheromone, visibility = np.ones((num_cities, num_cities)), 1/(distance_matrix + np.eye(num_cities)*1e10)\n",
    "best_route, best_distance = None, float('inf')\n",
    "\n",
    "def calculate_route_length(route): return sum(distance_matrix[route[i]][route[(i+1)%num_cities]] for i in range(num_cities))\n",
    "\n",
    "for _ in range(num_iterations):\n",
    "    all_routes = []\n",
    "    for _ in range(num_ants):\n",
    "        route, unvisited = [], list(range(num_cities))\n",
    "        current_city = random.choice(unvisited)\n",
    "        route.append(current_city); unvisited.remove(current_city)\n",
    "        while unvisited:\n",
    "            probabilities = [pheromone[current_city][next_city] * visibility[current_city][next_city] for next_city in unvisited]\n",
    "            current_city = random.choices(unvisited, weights=probabilities)[0]\n",
    "            route.append(current_city); unvisited.remove(current_city)\n",
    "        all_routes.append(route)\n",
    "\n",
    "    pheromone *= 0.5\n",
    "    for route in all_routes:\n",
    "        length = calculate_route_length(route)\n",
    "        for i in range(num_cities):\n",
    "            from_city, to_city = route[i], route[(i+1)%num_cities]\n",
    "            pheromone[from_city][to_city] += 1/length\n",
    "            pheromone[to_city][from_city] += 1/length\n",
    "\n",
    "    for route in all_routes:\n",
    "        length = calculate_route_length(route)\n",
    "        if length < best_distance: best_distance, best_route = length, route\n",
    "\n",
    "print(\"Best route:\", best_route)\n",
    "print(\"Shortest distance:\", best_distance)\n"
   ]
  }
 ],
 "metadata": {
  "kernelspec": {
   "display_name": "Python 3 (ipykernel)",
   "language": "python",
   "name": "python3"
  },
  "language_info": {
   "codemirror_mode": {
    "name": "ipython",
    "version": 3
   },
   "file_extension": ".py",
   "mimetype": "text/x-python",
   "name": "python",
   "nbconvert_exporter": "python",
   "pygments_lexer": "ipython3",
   "version": "3.12.4"
  }
 },
 "nbformat": 4,
 "nbformat_minor": 5
}
