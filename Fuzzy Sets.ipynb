{
 "cells": [
  {
   "cell_type": "code",
   "execution_count": 5,
   "id": "f386167e-a21a-4a77-bcb1-2dc6190894f3",
   "metadata": {},
   "outputs": [
    {
     "name": "stdout",
     "output_type": "stream",
     "text": [
      "Union: {'x1': 0.6, 'x2': 0.7, 'x3': 0.8}\n",
      "Intesection: {'x1': 0.2, 'x2': 0.4, 'x3': 0.5}\n",
      "Complement of A: {'x1': 0.8, 'x2': 0.30000000000000004, 'x3': 0.5}\n",
      "Difference (A - B): {'x1': 0.4, 'x2': 0.7, 'x3': 0.5}\n",
      "Fuzzy Relation R (A x B):\n",
      " {('x1', 'x1'): 0.2, ('x1', 'x2'): 0.2, ('x1', 'x3'): 0.2, ('x2', 'x1'): 0.6, ('x2', 'x2'): 0.4, ('x2', 'x3'): 0.7, ('x3', 'x1'): 0.5, ('x3', 'x2'): 0.4, ('x3', 'x3'): 0.5}\n",
      "Max-Min Composition T (A × C): {('x1', 'x1'): 0.2, ('x1', 'x2'): 0.2, ('x1', 'x3'): 0.2, ('x2', 'x1'): 0.3, ('x2', 'x2'): 0.7, ('x2', 'x3'): 0.4, ('x3', 'x1'): 0.3, ('x3', 'x2'): 0.5, ('x3', 'x3'): 0.4}\n"
     ]
    }
   ],
   "source": [
    "\n",
    "\n",
    "import numpy as np\n",
    "     \n",
    "\n",
    "# Define fuzzy sets A and B as dictionaries\n",
    "A = {'x1': 0.2, 'x2': 0.7, 'x3': 0.5}\n",
    "B = {'x1': 0.6, 'x2': 0.4, 'x3': 0.8}\n",
    "C = {'x1': 0.3, 'x2': 0.9, 'x3': 0.4}\n",
    "\n",
    "     \n",
    "\n",
    "# Union: max(A, B)\n",
    "def fuzzy_union(A, B):\n",
    "    return {key: max(A[key], B[key]) for key in A}\n",
    "\n",
    "\n",
    "print(\"Union:\", fuzzy_union(A,B))\n",
    "     \n",
    "\n",
    "\n",
    "# Intersection: min(A, B)\n",
    "def fuzzy_intersection(A, B):\n",
    "    return {key: min(A[key], B[key]) for key in A}\n",
    "\n",
    "\n",
    "print(\"Intesection:\", fuzzy_intersection(A,B))\n",
    "     \n",
    "\n",
    "\n",
    "\n",
    "# Complement: 1 - A\n",
    "def fuzzy_complement(A):\n",
    "    return {key: 1 - value for key, value in A.items()}\n",
    "\n",
    "print(\"Complement of A:\", fuzzy_complement(A))\n",
    "     \n",
    "\n",
    "\n",
    "\n",
    "\n",
    "# Difference: max(A, 1 - B)\n",
    "def fuzzy_difference(A, B):\n",
    "    return {key: max(A[key], 1 - B.get(key, 0)) for key in A}\n",
    "\n",
    "print(\"Difference (A - B):\", fuzzy_difference(A,B))\n",
    "     \n",
    "\n",
    "\n",
    "\n",
    "\n",
    "def cartesian_product(A, B):\n",
    "    relation = {}\n",
    "    for a_key, a_val in A.items():\n",
    "        for b_key, b_val in B.items():\n",
    "            relation[(a_key, b_key)] = min(a_val, b_val)\n",
    "    return relation\n",
    "\n",
    "\n",
    "\n",
    "print(\"Fuzzy Relation R (A x B):\\n\", cartesian_product(A, B))\n",
    "     \n",
    "\n",
    "# Create fuzzy relations R(A × B) and S(B × C)\n",
    "R = cartesian_product(A, B)  # R(A × B)\n",
    "S = cartesian_product(B, C)  # S(B × C)\n",
    "\n",
    "\n",
    "# Max-Min Composition function\n",
    "def max_min_composition(R1, R2, X, Y, Z):\n",
    "    result = {}\n",
    "    for x in X:\n",
    "        for z in Z:\n",
    "            min_values = [min(R1.get((x, y), 0), R2.get((y, z), 0)) for y in Y]\n",
    "            result[(x, z)] = max(min_values)\n",
    "    return result\n",
    "\n",
    "\n",
    "\n",
    "# Perform the Max-Min Composition\n",
    "print(\"Max-Min Composition T (A × C):\", max_min_composition(R, S, A, B, C))\n",
    "     \n"
   ]
  },
  {
   "cell_type": "code",
   "execution_count": 21,
   "id": "3531c1d6-d482-4829-8e3c-421af38a8724",
   "metadata": {},
   "outputs": [
    {
     "name": "stdout",
     "output_type": "stream",
     "text": [
      "{('x1', 'x1'): 0.2, ('x1', 'x2'): 0.2, ('x1', 'x3'): 0.2, ('x2', 'x1'): 0.6, ('x2', 'x2'): 0.4, ('x2', 'x3'): 0.7, ('x3', 'x1'): 0.5, ('x3', 'x2'): 0.4, ('x3', 'x3'): 0.5}\n",
      "{('x1', 'x1'): 0.2, ('x1', 'x2'): 0.2, ('x1', 'x3'): 0.2, ('x2', 'x1'): 0.3, ('x2', 'x2'): 0.7, ('x2', 'x3'): 0.4, ('x3', 'x1'): 0.3, ('x3', 'x2'): 0.5, ('x3', 'x3'): 0.4}\n"
     ]
    }
   ],
   "source": [
    "def fuzzy_cartesian(A, B):\n",
    "    return {(i, j): min(A[i], B[j]) for i in A for j in B}\n",
    "\n",
    "def fuzzy_max_min(R, S, X, Y, Z):\n",
    "    return {(x, z): max(min(R.get((x, y), 0), S.get((y, z), 0)) for y in Y) for x in X for z in Z}\n",
    "\n",
    "\n",
    "R = fuzzy_cartesian(A, B)\n",
    "T = fuzzy_max_min(R, S, A.keys(), B.keys(), C.keys())\n",
    "\n",
    "\n",
    "print(fuzzy_cartesian(A, B))\n",
    "print(fuzzy_max_min(R, S, A.keys(), B.keys(), C.keys()))"
   ]
  }
 ],
 "metadata": {
  "kernelspec": {
   "display_name": "Python 3 (ipykernel)",
   "language": "python",
   "name": "python3"
  },
  "language_info": {
   "codemirror_mode": {
    "name": "ipython",
    "version": 3
   },
   "file_extension": ".py",
   "mimetype": "text/x-python",
   "name": "python",
   "nbconvert_exporter": "python",
   "pygments_lexer": "ipython3",
   "version": "3.12.4"
  }
 },
 "nbformat": 4,
 "nbformat_minor": 5
}
