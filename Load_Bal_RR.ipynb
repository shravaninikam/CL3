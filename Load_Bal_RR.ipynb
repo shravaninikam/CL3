{
 "cells": [
  {
   "cell_type": "code",
   "execution_count": 10,
   "id": "f58ccf4b-f225-46fc-a142-2bda7eb0d835",
   "metadata": {},
   "outputs": [
    {
     "name": "stdout",
     "output_type": "stream",
     "text": [
      "=== Round Robin Load Balancer ===\n",
      "Request 1: Routed to Server1\n",
      "Request 2: Routed to Server2\n",
      "Request 3: Routed to Server3\n",
      "Request 4: Routed to Server1\n",
      "Request 5: Routed to Server2\n",
      "\n",
      "=== Least Connection Load Balancer ===\n",
      "Request 1: Routed to Server3 (Connections: {'Server1': 4, 'Server2': 4, 'Server3': 3})\n",
      "Request 2: Routed to Server3 (Connections: {'Server1': 4, 'Server2': 4, 'Server3': 4})\n",
      "Request 3: Routed to Server1 (Connections: {'Server1': 5, 'Server2': 4, 'Server3': 4})\n",
      "Request 4: Routed to Server2 (Connections: {'Server1': 5, 'Server2': 5, 'Server3': 4})\n",
      "Request 5: Routed to Server3 (Connections: {'Server1': 5, 'Server2': 5, 'Server3': 5})\n"
     ]
    }
   ],
   "source": [
    "import random\n",
    "\n",
    "class RoundRobinLB:\n",
    "    def __init__(self, servers):\n",
    "        self.servers, self.i = servers, 0\n",
    "\n",
    "    def next(self):\n",
    "        server = self.servers[self.i]\n",
    "        self.i = (self.i + 1) % len(self.servers)\n",
    "        return server\n",
    "\n",
    "class LeastConnLB:\n",
    "    def __init__(self, servers):\n",
    "        self.conn = {s: 0 for s in servers}\n",
    "\n",
    "    def next(self):\n",
    "        server = min(self.conn, key=self.conn.get)\n",
    "        self.conn[server] += 1\n",
    "        return server\n",
    "\n",
    "servers = [\"Server1\", \"Server2\", \"Server3\"]\n",
    "\n",
    "# Round Robin Routing\n",
    "rr = RoundRobinLB(servers)\n",
    "print(\"=== Round Robin Load Balancer ===\")\n",
    "for req in range(1, 6):\n",
    "    print(f\"Request {req}: Routed to {rr.next()}\")\n",
    "\n",
    "print(\"\\n=== Least Connection Load Balancer ===\")\n",
    "# Least Connection Routing\n",
    "lc = LeastConnLB(servers)\n",
    "\n",
    "# Add random existing connections to simulate real-world scenario\n",
    "for _ in range(5):\n",
    "    lc.conn[random.choice(servers)] += random.randint(1, 3)\n",
    "\n",
    "for req in range(1, 6):\n",
    "    server = lc.next()\n",
    "    print(f\"Request {req}: Routed to {server} (Connections: {lc.conn})\")\n"
   ]
  },
  {
   "cell_type": "code",
   "execution_count": null,
   "id": "806d5899-b026-4266-9d9c-2032d2b9d61c",
   "metadata": {},
   "outputs": [],
   "source": []
  },
  {
   "cell_type": "code",
   "execution_count": null,
   "id": "cb032406-283c-427e-aff5-1e874b74ec40",
   "metadata": {},
   "outputs": [],
   "source": []
  }
 ],
 "metadata": {
  "kernelspec": {
   "display_name": "jupyter_env",
   "language": "python",
   "name": "python3"
  },
  "language_info": {
   "codemirror_mode": {
    "name": "ipython",
    "version": 3
   },
   "file_extension": ".py",
   "mimetype": "text/x-python",
   "name": "python",
   "nbconvert_exporter": "python",
   "pygments_lexer": "ipython3",
   "version": "3.9.21"
  }
 },
 "nbformat": 4,
 "nbformat_minor": 5
}
